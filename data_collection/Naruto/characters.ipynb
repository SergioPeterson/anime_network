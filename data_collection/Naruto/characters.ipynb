{
 "cells": [
  {
   "cell_type": "code",
   "execution_count": 7,
   "metadata": {},
   "outputs": [
    {
     "name": "stdout",
     "output_type": "stream",
     "text": [
      "Episode 1: Ryomen Sukuna\n",
      "Episode 2: For Myself\n",
      "Episode 3: Girl of Steel\n",
      "Episode 4: Curse Womb Must Die\n",
      "Episode 5: Curse Womb Must Die II\n",
      "Episode 6: After Rain\n",
      "Episode 7: Assault\n",
      "Episode 8: Boredom\n",
      "Episode 9: Small Fry and Reverse Retribution\n",
      "Episode 10: Idle Transfiguration\n",
      "Episode 11: Narrow-minded\n",
      "Episode 12: To You, Someday\n",
      "Episode 13: Tomorrow\n",
      "Episode 14: Kyoto Sister School Exchange Event - Group Battle 0 -\n",
      "Episode 15: Kyoto Sister School Exchange Event - Group Battle 1 -\n",
      "Episode 16: Kyoto Sister School Exchange Event - Group Battle 2 -\n",
      "Episode 17: Kyoto Sister School Exchange Event - Group Battle 3 -\n",
      "Episode 18: Sage\n",
      "Episode 19: Black Flash\n",
      "Episode 20: Nonstandard\n",
      "Episode 21: Jujutsu Koshien\n",
      "Episode 22: The Origin of Blind Obedience\n",
      "Episode 23: The Origin of Blind Obedience: 2\n",
      "Episode 24: Accomplices\n"
     ]
    }
   ],
   "source": [
    "import requests\n",
    "\n",
    "def get_anime_episodes(anime_id):\n",
    "    # Jikan API base URL for episodes\n",
    "    url = f\"https://api.jikan.moe/v4/anime/{anime_id}/episodes\"\n",
    "    episodes = []\n",
    "    \n",
    "    page = 1\n",
    "    while True:\n",
    "        response = requests.get(f\"{url}?page={page}\")\n",
    "        if response.status_code != 200:\n",
    "            print(f\"Error: {response.status_code}\")\n",
    "            break\n",
    "        \n",
    "        data = response.json()\n",
    "        episodes.extend(data.get(\"data\", []))\n",
    "        \n",
    "        # Check if more pages exist\n",
    "        if not data.get(\"pagination\", {}).get(\"has_next_page\"):\n",
    "            break\n",
    "        \n",
    "        page += 1\n",
    "\n",
    "    return episodes\n",
    "\n",
    "# JJK anime ID on MAL is 40748\n",
    "anime_id = 40748\n",
    "episodes = get_anime_episodes(anime_id)\n",
    "\n",
    "# Print episode titles\n",
    "for episode in episodes:\n",
    "    print(f\"Episode {episode['mal_id']}: {episode['title']}\")"
   ]
  },
  {
   "cell_type": "code",
   "execution_count": 9,
   "metadata": {},
   "outputs": [
    {
     "name": "stdout",
     "output_type": "stream",
     "text": [
      "Characters in Episode 1:\n",
      "No characters found.\n"
     ]
    }
   ],
   "source": [
    "from bs4 import BeautifulSoup\n",
    "import requests\n",
    "\n",
    "def get_episode_characters(episode_url):\n",
    "    # Fetch the episode page\n",
    "    response = requests.get(episode_url)\n",
    "    if response.status_code != 200:\n",
    "        print(f\"Failed to fetch the episode page: {response.status_code}\")\n",
    "        return None\n",
    "    \n",
    "    soup = BeautifulSoup(response.text, \"html.parser\")\n",
    "    characters = []\n",
    "    \n",
    "    # Replace the selector below with the correct one from the webpage\n",
    "    character_section = soup.find(\"div\", {\"class\": \"mw-parser-output\"})\n",
    "    if character_section:\n",
    "        for item in character_section.find_all(\"a\"):\n",
    "            characters.append(item.text.strip())\n",
    "\n",
    "    return characters\n",
    "\n",
    "# Example: Episode 1 URL on Fandom Wiki\n",
    "episode_url = \"https://jujutsu-kaisen.fandom.com/wiki/Episode_1\"\n",
    "characters = get_episode_characters(episode_url)\n",
    "\n",
    "if characters:\n",
    "    print(\"Characters appearing in Episode 1:\")\n",
    "    for char in characters:\n",
    "        print(char)\n",
    "else:\n",
    "    print(\"No character data found.\")"
   ]
  },
  {
   "cell_type": "code",
   "execution_count": null,
   "metadata": {},
   "outputs": [],
   "source": []
  }
 ],
 "metadata": {
  "kernelspec": {
   "display_name": "Python 3",
   "language": "python",
   "name": "python3"
  },
  "language_info": {
   "codemirror_mode": {
    "name": "ipython",
    "version": 3
   },
   "file_extension": ".py",
   "mimetype": "text/x-python",
   "name": "python",
   "nbconvert_exporter": "python",
   "pygments_lexer": "ipython3",
   "version": "3.12.0"
  }
 },
 "nbformat": 4,
 "nbformat_minor": 2
}
