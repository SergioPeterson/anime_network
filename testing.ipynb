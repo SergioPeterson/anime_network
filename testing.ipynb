{
 "cells": [
  {
   "cell_type": "code",
   "execution_count": 34,
   "metadata": {},
   "outputs": [
    {
     "name": "stdout",
     "output_type": "stream",
     "text": [
      "WRONG\n"
     ]
    }
   ],
   "source": [
    "# !pip3 install requests\n",
    "\n",
    "import requests\n",
    "\n",
    "# API endpoint\n",
    "# url = \"https://naruto.fandom.com/api.php?action=parse&page=List_of_Animated_Media&format=json\"\n",
    "url = \"https://jujutsu-kaisen.fandom.com/api.php?action=parse&page=List_of_Episodes&format=json\"\n",
    "# url = \"https://jujutsu-kaisen.fandom.com/api.php?action=parse&page=List_of_Episodes&format=json\"\n",
    "\n",
    "# Fetch the JSON data\n",
    "response = requests.get(url)\n",
    "data = response.json()\n",
    "\n",
    "# Check if the response contains the expected data\n",
    "if \"parse\" in data and \"links\" in data[\"parse\"]:\n",
    "    # Extract the links array\n",
    "    links = data[\"parse\"][\"links\"]\n",
    "else:\n",
    "    print(\"Failed to fetch data from the API.\")\n",
    "    \n"
   ]
  },
  {
   "cell_type": "code",
   "execution_count": 31,
   "metadata": {},
   "outputs": [],
   "source": [
    "episode_titles = [link[\"*\"] for link in links]"
   ]
  },
  {
   "cell_type": "code",
   "execution_count": 32,
   "metadata": {},
   "outputs": [
    {
     "name": "stdout",
     "output_type": "stream",
     "text": [
      "First 5 episodes:\n",
      "1: Template:Episode Navigation\n",
      "2: Template:Navibox\n",
      "3: Blu-ray & DVD Hidden Inventory / Premature Death Vol. 1\n",
      "4: Blu-ray & DVD Hidden Inventory / Premature Death Vol. 2\n",
      "5: Blu-ray & DVD Shibuya Incident Vol. 1\n",
      "6: Blu-ray & DVD Shibuya Incident Vol. 2\n",
      "7: Blu-ray & DVD Shibuya Incident Vol. 3\n",
      "8: Blu-ray & DVD Shibuya Incident Vol. 4\n",
      "9: Blu-ray & DVD Shibuya Incident Vol. 5\n",
      "10: Blu-ray & DVD Shibuya Incident Vol. 6\n",
      "11: Blu-ray & DVD Vol. 1\n",
      "12: Blu-ray & DVD Vol. 2\n",
      "13: Blu-ray & DVD Vol. 3\n",
      "14: Blu-ray & DVD Vol. 4\n",
      "15: Blu-ray & DVD Vol. 5\n",
      "16: Blu-ray & DVD Vol. 6\n",
      "17: Blu-ray & DVD Vol. 7\n",
      "18: Blu-ray & DVD Vol. 8\n",
      "19: Episode 1\n",
      "20: Episode 10\n",
      "21: Episode 11\n",
      "22: Episode 12\n",
      "23: Episode 13\n",
      "24: Episode 14\n",
      "25: Episode 15\n",
      "26: Episode 16\n",
      "27: Episode 17\n",
      "28: Episode 18\n",
      "29: Episode 19\n",
      "30: Episode 2\n",
      "31: Episode 20\n",
      "32: Episode 21\n",
      "33: Episode 22\n",
      "34: Episode 23\n",
      "35: Episode 24\n",
      "36: Episode 25\n",
      "37: Episode 26\n",
      "38: Episode 27\n",
      "39: Episode 28\n",
      "40: Episode 29\n",
      "41: Episode 3\n",
      "42: Episode 30\n",
      "43: Episode 31\n",
      "44: Episode 32\n",
      "45: Episode 33\n",
      "46: Episode 34\n",
      "47: Episode 35\n",
      "48: Episode 36\n",
      "49: Episode 37\n",
      "50: Episode 38\n",
      "51: Episode 39\n",
      "52: Episode 4\n",
      "53: Episode 40\n",
      "54: Episode 41\n",
      "55: Episode 42\n",
      "56: Episode 43\n",
      "57: Episode 44\n",
      "58: Episode 45\n",
      "59: Episode 46\n",
      "60: Episode 47\n",
      "61: Episode 5\n",
      "62: Episode 6\n",
      "63: Episode 7\n",
      "64: Episode 8\n",
      "65: Episode 9\n",
      "66: Jujutsu Kaisen (Anime)\n",
      "67: Jujutsu Kaisen Wiki\n"
     ]
    }
   ],
   "source": [
    "# Print the episode titles\n",
    "print(\"First 5 episodes:\")\n",
    "for i, title in enumerate(episode_titles, start=1):\n",
    "    print(f\"{i}: {title}\")"
   ]
  },
  {
   "cell_type": "code",
   "execution_count": null,
   "metadata": {},
   "outputs": [],
   "source": []
  }
 ],
 "metadata": {
  "kernelspec": {
   "display_name": "Python 3",
   "language": "python",
   "name": "python3"
  },
  "language_info": {
   "codemirror_mode": {
    "name": "ipython",
    "version": 3
   },
   "file_extension": ".py",
   "mimetype": "text/x-python",
   "name": "python",
   "nbconvert_exporter": "python",
   "pygments_lexer": "ipython3",
   "version": "3.11.6"
  }
 },
 "nbformat": 4,
 "nbformat_minor": 2
}
