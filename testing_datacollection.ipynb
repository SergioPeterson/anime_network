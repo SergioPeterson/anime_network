{
 "cells": [
  {
   "cell_type": "markdown",
   "metadata": {},
   "source": [
    "## Get eps links"
   ]
  },
  {
   "cell_type": "markdown",
   "metadata": {},
   "source": [
    "#### JJK"
   ]
  },
  {
   "cell_type": "code",
   "execution_count": 10,
   "metadata": {},
   "outputs": [
    {
     "name": "stdout",
     "output_type": "stream",
     "text": [
      "Episode: Ryomen Sukuna, Link: https://jujutsu-kaisen.fandom.com/wiki/Episode_1\n",
      "Episode: For Myself, Link: https://jujutsu-kaisen.fandom.com/wiki/Episode_2\n",
      "Episode: Girl of Steel, Link: https://jujutsu-kaisen.fandom.com/wiki/Episode_3\n",
      "Episode: Fearsome Womb, Link: https://jujutsu-kaisen.fandom.com/wiki/Episode_4\n",
      "Episode: Fearsome Womb, Part 2, Link: https://jujutsu-kaisen.fandom.com/wiki/Episode_5\n",
      "Episode: After the Rain, Link: https://jujutsu-kaisen.fandom.com/wiki/Episode_6\n",
      "Episode: Assault, Link: https://jujutsu-kaisen.fandom.com/wiki/Episode_7\n",
      "Episode: Boring, Link: https://jujutsu-kaisen.fandom.com/wiki/Episode_8\n",
      "Episode: Young Fish and Reverse Punishment, Link: https://jujutsu-kaisen.fandom.com/wiki/Episode_9\n",
      "Episode: Idle Transfiguration, Link: https://jujutsu-kaisen.fandom.com/wiki/Episode_10\n",
      "Episode: Narrow-Minded, Link: https://jujutsu-kaisen.fandom.com/wiki/Episode_11\n",
      "Episode: To You Someday, Link: https://jujutsu-kaisen.fandom.com/wiki/Episode_12\n",
      "Episode: Tomorrow, Link: https://jujutsu-kaisen.fandom.com/wiki/Episode_13\n",
      "Episode: Kyoto Sister School Goodwill Event - Team Battle, Part 0, Link: https://jujutsu-kaisen.fandom.com/wiki/Episode_14\n",
      "Episode: Kyoto Sister School Goodwill Event - Team Battle, Part 1, Link: https://jujutsu-kaisen.fandom.com/wiki/Episode_15\n",
      "Episode: Kyoto Sister School Goodwill Event - Team Battle, Part 2, Link: https://jujutsu-kaisen.fandom.com/wiki/Episode_16\n",
      "Episode: Kyoto Sister School Goodwill Event - Team Battle, Part 3, Link: https://jujutsu-kaisen.fandom.com/wiki/Episode_17\n",
      "Episode: Sage, Link: https://jujutsu-kaisen.fandom.com/wiki/Episode_18\n",
      "Episode: Black Flash, Link: https://jujutsu-kaisen.fandom.com/wiki/Episode_19\n",
      "Episode: Nonstandard, Link: https://jujutsu-kaisen.fandom.com/wiki/Episode_20\n",
      "Episode: Jujutsu Koshien, Link: https://jujutsu-kaisen.fandom.com/wiki/Episode_21\n",
      "Episode: The Origin of Obedience, Link: https://jujutsu-kaisen.fandom.com/wiki/Episode_22\n",
      "Episode: The Origin of Obedience, Part 2, Link: https://jujutsu-kaisen.fandom.com/wiki/Episode_23\n",
      "Episode: Accomplices, Link: https://jujutsu-kaisen.fandom.com/wiki/Episode_24\n",
      "Episode: Hidden Inventory, Link: https://jujutsu-kaisen.fandom.com/wiki/Episode_25\n",
      "Episode: Hidden Inventory, Part 2, Link: https://jujutsu-kaisen.fandom.com/wiki/Episode_26\n",
      "Episode: Hidden Inventory, Part 3, Link: https://jujutsu-kaisen.fandom.com/wiki/Episode_27\n",
      "Episode: Hidden Inventory, Part 4, Link: https://jujutsu-kaisen.fandom.com/wiki/Episode_28\n",
      "Episode: Premature Death, Link: https://jujutsu-kaisen.fandom.com/wiki/Episode_29\n",
      "Episode: It's Like That, Link: https://jujutsu-kaisen.fandom.com/wiki/Episode_30\n",
      "Episode: Evening Festival, Link: https://jujutsu-kaisen.fandom.com/wiki/Episode_31\n",
      "Episode: The Shibuya Incident, Link: https://jujutsu-kaisen.fandom.com/wiki/Episode_32\n",
      "Episode: The Shibuya Incident - Gate Open, Link: https://jujutsu-kaisen.fandom.com/wiki/Episode_33\n",
      "Episode: Pandemonium, Link: https://jujutsu-kaisen.fandom.com/wiki/Episode_34\n",
      "Episode: Summon, Link: https://jujutsu-kaisen.fandom.com/wiki/Episode_35\n",
      "Episode: Dull Knife, Link: https://jujutsu-kaisen.fandom.com/wiki/Episode_36\n",
      "Episode: Red Scale, Link: https://jujutsu-kaisen.fandom.com/wiki/Episode_37\n",
      "Episode: Fluctuations, Link: https://jujutsu-kaisen.fandom.com/wiki/Episode_38\n",
      "Episode: Fluctuations, Part 2, Link: https://jujutsu-kaisen.fandom.com/wiki/Episode_39\n",
      "Episode: Thunderclap, Link: https://jujutsu-kaisen.fandom.com/wiki/Episode_40\n",
      "Episode: Thunderclap, Part 2, Link: https://jujutsu-kaisen.fandom.com/wiki/Episode_41\n",
      "Episode: Right and Wrong, Link: https://jujutsu-kaisen.fandom.com/wiki/Episode_42\n",
      "Episode: Right and Wrong, Part 2, Link: https://jujutsu-kaisen.fandom.com/wiki/Episode_43\n",
      "Episode: Right and Wrong, Part 3, Link: https://jujutsu-kaisen.fandom.com/wiki/Episode_44\n",
      "Episode: Transformation, Link: https://jujutsu-kaisen.fandom.com/wiki/Episode_45\n",
      "Episode: Transformation, Part 2, Link: https://jujutsu-kaisen.fandom.com/wiki/Episode_46\n",
      "Episode: The Shibuya Incident - Gate Closed, Link: https://jujutsu-kaisen.fandom.com/wiki/Episode_47\n"
     ]
    }
   ],
   "source": [
    "from bs4 import BeautifulSoup\n",
    "import requests\n",
    "\n",
    "html_content = \"https://jujutsu-kaisen.fandom.com/wiki/List_of_Episodes\"\n",
    "\n",
    "# Parse the HTML content\n",
    "response = requests.get(html_content)\n",
    "soup = BeautifulSoup(response.text, 'html.parser')\n",
    "\n",
    "# Find all tables with the specified attributes\n",
    "tables = soup.find_all('table', {\n",
    "    'width': '100%',\n",
    "    'style': 'border:1px #ED0000; overflow:hidden; text-align:center; align:center;',\n",
    "    'border': '1'\n",
    "})\n",
    "\n",
    "# Initialize a list to hold all episodes\n",
    "all_episodes = []\n",
    "\n",
    "# Loop through each table and extract episode data\n",
    "for table in tables:\n",
    "    rows = table.find_all('tr')[1:]  # Skip the header row\n",
    "    for row in rows:\n",
    "        title_cell = row.find_all('td')[2]  # The third cell contains the title\n",
    "        link = title_cell.find('a', href=True)  # Extract the <a> tag with a link\n",
    "        if link:\n",
    "            all_episodes.append({\n",
    "                'name': link.text.strip(),\n",
    "                'link': f\"https://jujutsu-kaisen.fandom.com{link['href']}\"  # Make the link absolute\n",
    "            })\n",
    "\n",
    "# Print extracted episodes\n",
    "for episode in all_episodes:\n",
    "    print(f\"Episode: {episode['name']}, Link: {episode['link']}\")"
   ]
  },
  {
   "cell_type": "markdown",
   "metadata": {},
   "source": [
    "#### NARUTO"
   ]
  },
  {
   "cell_type": "code",
   "execution_count": 30,
   "metadata": {},
   "outputs": [
    {
     "name": "stdout",
     "output_type": "stream",
     "text": [
      "Episodes - Naruto: Original\n",
      "Episodes - Naruto: Shippūden\n",
      "Episodes - Boruto: Naruto Next Generations\n",
      "OVAs\n",
      "Movies - Naruto: Original\n",
      "Movies - Naruto: Shippūden\n"
     ]
    }
   ],
   "source": [
    "import requests\n",
    "from bs4 import BeautifulSoup\n",
    "\n",
    "# URL of the webpage\n",
    "html_content = \"https://naruto.fandom.com/wiki/List_of_Animated_Media\"\n",
    "\n",
    "# Fetch and parse the HTML content\n",
    "response = requests.get(html_content)\n",
    "soup = BeautifulSoup(response.text, 'html.parser')\n",
    "\n",
    "# Initialize dictionary to store data\n",
    "data = {}\n",
    "\n",
    "# Find all tables with their preceding headings\n",
    "tables = soup.find_all('table', class_='box table coloured bordered innerbordered style-basic fill-horiz')\n",
    "\n",
    "for table in tables:\n",
    "    # Find the preceding headings\n",
    "    sub_heading = table.find_previous('h3')  # Specific subcategory\n",
    "    main_heading = table.find_previous('h2')  # Main category (e.g., Episodes, Movies)\n",
    "\n",
    "    if sub_heading and main_heading:\n",
    "        # Combine main and sub headings for unique categories like \"Naruto: Original Movies\"\n",
    "        category_title = f\"{main_heading.get_text(strip=True)} - {sub_heading.get_text(strip=True)}\"\n",
    "    elif main_heading:\n",
    "        # Use the main heading if no subheading is found\n",
    "        category_title = main_heading.get_text(strip=True)\n",
    "    else:\n",
    "        continue\n",
    "    if category_title == \"OVAs - Boruto: Naruto Next Generations\":\n",
    "        category_title = \"OVAs\"\n",
    "\n",
    "    # Extract rows from the table\n",
    "    rows = table.find_all('tr')[1:]  # Skip header row\n",
    "    entries = []\n",
    "    for idx, row in enumerate(rows, start=1):  # Use enumerate for dynamic numbering\n",
    "        cells = row.find_all(['th', 'td'])\n",
    "        if cells:\n",
    "            if category_title == \"OVAs\":\n",
    "                entry = {\n",
    "                    \"Number\": idx,\n",
    "                    \"Title\": cells[0].find('a').text.strip() if cells[0].find('a') else cells[0].text.strip(),\n",
    "                    \"Link\": f\"https://naruto.fandom.com{cells[0].find('a')['href']}\" if cells[0].find('a') else None,\n",
    "                }\n",
    "            else:\n",
    "                entry = {\n",
    "                    \"Number\": cells[0].text.strip(),\n",
    "                    \"Title\": cells[1].find('a').text.strip() if cells[1].find('a') else cells[1].text.strip(),\n",
    "                    \"Link\": f\"https://naruto.fandom.com{cells[1].find('a')['href']}\" if cells[1].find('a') else None,\n",
    "                }\n",
    "            entries.append(entry)\n",
    "    # Save entries under the category\n",
    "    data[category_title] = entries\n",
    "\n",
    "# Print results\n",
    "for category, items in data.items():\n",
    "    print(f\"{category}\")\n",
    "    # for item in items:\n",
    "    #     print(f\"  Number: {item['Number']}\")\n",
    "    #     print(f\"  Title: {item['Title']}\")\n",
    "    #     print(f\"  Link: {item.get('Link')}\\n\")"
   ]
  },
  {
   "cell_type": "markdown",
   "metadata": {},
   "source": [
    "## Consolidece Eps"
   ]
  },
  {
   "cell_type": "markdown",
   "metadata": {},
   "source": [
    "#### NO filler"
   ]
  },
  {
   "cell_type": "code",
   "execution_count": null,
   "metadata": {},
   "outputs": [],
   "source": [
    "data\n",
    "animefillerlist"
   ]
  }
 ],
 "metadata": {
  "kernelspec": {
   "display_name": "graph_env",
   "language": "python",
   "name": "python3"
  },
  "language_info": {
   "codemirror_mode": {
    "name": "ipython",
    "version": 3
   },
   "file_extension": ".py",
   "mimetype": "text/x-python",
   "name": "python",
   "nbconvert_exporter": "python",
   "pygments_lexer": "ipython3",
   "version": "3.12.0"
  }
 },
 "nbformat": 4,
 "nbformat_minor": 2
}
